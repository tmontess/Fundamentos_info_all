{
 "cells": [
  {
   "cell_type": "markdown",
   "metadata": {},
   "source": [
    "### Consigna N°1\n",
    "\n",
    "Dado el siguiente enlace \"https://pokeapi.co/api/v2/pokemon/pikachu\", realizar las siguientes actividades adjuntando los archivos resultantes y el código utilizado para la realización de cada paso:\n",
    "\n",
    "a) ¿Cuál es el dominio al que estamos consultando?\n",
    "\n",
    "b) ¿Qué status_code devuelve el pedido a dicha URL? ¿Y qué content_type? Obtené la información correspondiente al campo \"forms\".\n",
    "\n",
    "c) Averigüá cuántos Pokemones almacena la API.\n",
    "\n",
    "d) ¿Cómo esperás que sea la URL para obtener las habilidades de los Pokemons (abilities)? ¿y cómo será la url para obtener la información sobre la habilidad 2? ¿Qué métodos HTTP deberían asociarse a cada una?\n",
    "\n",
    "f) Guardar los datos correspondientes a Pikachu y Sylveon en un archivo de nombre \"ficha_tecnica_pokemon.txt\".\n",
    "\n",
    "g) Describí la arquitectura cliente-servidor y los roles de cada parte"
   ]
  },
  {
   "cell_type": "markdown",
   "metadata": {},
   "source": [
    "\n"
   ]
  },
  {
   "cell_type": "markdown",
   "metadata": {},
   "source": [
    "a) ¿Cuál es el dominio al que estamos consultando?"
   ]
  },
  {
   "cell_type": "markdown",
   "metadata": {},
   "source": [
    "el dominio al que estamos consultando es:\n",
    "pokeapi.co"
   ]
  },
  {
   "cell_type": "markdown",
   "metadata": {},
   "source": [
    "b) ¿Qué status_code devuelve el pedido a dicha URL? ¿Y qué content_type? Obtené la información correspondiente al campo \"forms\"."
   ]
  },
  {
   "cell_type": "markdown",
   "metadata": {},
   "source": [
    "EL EJERCICIO C LO RESUELVO DESPUES DEL EJ F\n"
   ]
  },
  {
   "cell_type": "markdown",
   "metadata": {},
   "source": []
  },
  {
   "cell_type": "code",
   "execution_count": 13,
   "metadata": {},
   "outputs": [],
   "source": [
    "#a) dominio pokeapi\n",
    "\n",
    "import requests \n",
    "poke=requests.get(\"https://pokeapi.co/api/v2/pokemon/pikachu\")\n",
    "#“get” es pedir un recuso() #ingreso URL de dato"
   ]
  },
  {
   "cell_type": "code",
   "execution_count": 14,
   "metadata": {},
   "outputs": [
    {
     "name": "stdout",
     "output_type": "stream",
     "text": [
      "200\n"
     ]
    }
   ],
   "source": [
    "#aca pido el status code:\n",
    "# 200 = Ok\n",
    "# 404 = Not Found\n",
    "# 500 = Internal Server Error \n",
    "# 503 = Service Univaille\n",
    "print(poke.status_code) \n",
    "# pide el solo el nro del status_code "
   ]
  },
  {
   "cell_type": "code",
   "execution_count": 15,
   "metadata": {},
   "outputs": [
    {
     "name": "stdout",
     "output_type": "stream",
     "text": [
      "application/json; charset=utf-8\n"
     ]
    }
   ],
   "source": [
    "#aca pido el content type:\n",
    "print(poke.headers[\"Content-Type\"])\n",
    "\n",
    "#Las headers son todas las cosas que tira el diccionario al hacer el atributo .headers. Estasson:X-Powered-By, Content-Length,  Date, Content-Type.\n",
    "# Entre corchetes pongo Content-Type que es el que quiero que me devuelva"
   ]
  },
  {
   "cell_type": "code",
   "execution_count": 16,
   "metadata": {},
   "outputs": [
    {
     "name": "stdout",
     "output_type": "stream",
     "text": [
      "[{'name': 'pikachu', 'url': 'https://pokeapi.co/api/v2/pokemon-form/25/'}]\n"
     ]
    }
   ],
   "source": [
    "#para obtener informacion correspondiente al forms: \n",
    "print(poke.json()[\"forms\"])"
   ]
  },
  {
   "cell_type": "markdown",
   "metadata": {},
   "source": [
    "d) ¿Cómo esperás que sea la URL para obtener las habilidades de los Pokemons (abilities)? ¿y cómo será la url para obtener la información sobre la habilidad 2? ¿Qué métodos HTTP deberían asociarse a cada una?"
   ]
  },
  {
   "cell_type": "markdown",
   "metadata": {},
   "source": [
    "URL para obtener las habilidades de los Pokemons (abilities):\n",
    "Esperaria que sea:\"https://pokeapi.co/abilities/pokemons/\"\n"
   ]
  },
  {
   "cell_type": "code",
   "execution_count": null,
   "metadata": {},
   "outputs": [
    {
     "data": {
      "text/plain": [
       "{'effect_changes': [],\n",
       " 'effect_entries': [{'effect': 'Das weather ändert sich zu rain wenn ein Pokémon mit dieser Fähigkeit den Kampf betritt. Dieser Effekt ist dauerhaft bis das weather geändert wird.\\n\\nWenn mehrere Pokémon mit dieser Fähigkeit, drought, sand stream oder snow warning zur selben Zeit den Kampf betreten, werden die Fähigkeiten nach Reihenfolge der speed der Pokémon ausgelöst, unter Berücksichtigung von trick room.',\n",
       "   'language': {'name': 'de', 'url': 'https://pokeapi.co/api/v2/language/6/'},\n",
       "   'short_effect': 'Ändert beim Betreten des Kampfes das weather in rain.'},\n",
       "  {'effect': \"The weather changes to rain when this Pokémon enters battle and does not end unless replaced by another weather condition.\\n\\nIf multiple Pokémon with this ability, drought, sand stream, or snow warning are sent out at the same time, the abilities will activate in order of Speed, respecting trick room.  Each ability's weather will cancel the previous weather, and only the weather summoned by the slowest of the Pokémon will stay.\",\n",
       "   'language': {'name': 'en', 'url': 'https://pokeapi.co/api/v2/language/9/'},\n",
       "   'short_effect': 'Summons rain that lasts indefinitely upon entering battle.'}],\n",
       " 'flavor_text_entries': [{'flavor_text': 'Summons rain in battle.',\n",
       "   'language': {'name': 'en', 'url': 'https://pokeapi.co/api/v2/language/9/'},\n",
       "   'version_group': {'name': 'ruby-sapphire',\n",
       "    'url': 'https://pokeapi.co/api/v2/version-group/5/'}},\n",
       "  {'flavor_text': 'Summons rain in battle.',\n",
       "   'language': {'name': 'en', 'url': 'https://pokeapi.co/api/v2/language/9/'},\n",
       "   'version_group': {'name': 'emerald',\n",
       "    'url': 'https://pokeapi.co/api/v2/version-group/6/'}},\n",
       "  {'flavor_text': 'Summons rain in battle.',\n",
       "   'language': {'name': 'en', 'url': 'https://pokeapi.co/api/v2/language/9/'},\n",
       "   'version_group': {'name': 'firered-leafgreen',\n",
       "    'url': 'https://pokeapi.co/api/v2/version-group/7/'}},\n",
       "  {'flavor_text': 'The Pokémon makes it rain\\nif it appears in battle.',\n",
       "   'language': {'name': 'en', 'url': 'https://pokeapi.co/api/v2/language/9/'},\n",
       "   'version_group': {'name': 'diamond-pearl',\n",
       "    'url': 'https://pokeapi.co/api/v2/version-group/8/'}},\n",
       "  {'flavor_text': 'The Pokémon makes it rain\\nif it appears in battle.',\n",
       "   'language': {'name': 'en', 'url': 'https://pokeapi.co/api/v2/language/9/'},\n",
       "   'version_group': {'name': 'platinum',\n",
       "    'url': 'https://pokeapi.co/api/v2/version-group/9/'}},\n",
       "  {'flavor_text': 'The Pokémon makes it rain\\nif it appears in battle.',\n",
       "   'language': {'name': 'en', 'url': 'https://pokeapi.co/api/v2/language/9/'},\n",
       "   'version_group': {'name': 'heartgold-soulsilver',\n",
       "    'url': 'https://pokeapi.co/api/v2/version-group/10/'}},\n",
       "  {'flavor_text': 'Le Pokémon invoque la pluie\\nquand il entre au combat.',\n",
       "   'language': {'name': 'fr', 'url': 'https://pokeapi.co/api/v2/language/5/'},\n",
       "   'version_group': {'name': 'black-white',\n",
       "    'url': 'https://pokeapi.co/api/v2/version-group/11/'}},\n",
       "  {'flavor_text': 'The Pokémon makes it rain\\nif it appears in battle.',\n",
       "   'language': {'name': 'en', 'url': 'https://pokeapi.co/api/v2/language/9/'},\n",
       "   'version_group': {'name': 'black-white',\n",
       "    'url': 'https://pokeapi.co/api/v2/version-group/11/'}},\n",
       "  {'flavor_text': 'The Pokémon makes it rain\\nif it appears in battle.',\n",
       "   'language': {'name': 'en', 'url': 'https://pokeapi.co/api/v2/language/9/'},\n",
       "   'version_group': {'name': 'black-2-white-2',\n",
       "    'url': 'https://pokeapi.co/api/v2/version-group/14/'}},\n",
       "  {'flavor_text': 'せんとうに\\u3000でると\\nあめを\\u3000ふらす。',\n",
       "   'language': {'name': 'ja-Hrkt',\n",
       "    'url': 'https://pokeapi.co/api/v2/language/1/'},\n",
       "   'version_group': {'name': 'x-y',\n",
       "    'url': 'https://pokeapi.co/api/v2/version-group/15/'}},\n",
       "  {'flavor_text': '배틀에 나가면\\n비를 내린다.',\n",
       "   'language': {'name': 'ko', 'url': 'https://pokeapi.co/api/v2/language/3/'},\n",
       "   'version_group': {'name': 'x-y',\n",
       "    'url': 'https://pokeapi.co/api/v2/version-group/15/'}},\n",
       "  {'flavor_text': 'Le Pokémon invoque la pluie\\nquand il entre au combat.',\n",
       "   'language': {'name': 'fr', 'url': 'https://pokeapi.co/api/v2/language/5/'},\n",
       "   'version_group': {'name': 'x-y',\n",
       "    'url': 'https://pokeapi.co/api/v2/version-group/15/'}},\n",
       "  {'flavor_text': 'Ruft im Kampf Regen herbei.',\n",
       "   'language': {'name': 'de', 'url': 'https://pokeapi.co/api/v2/language/6/'},\n",
       "   'version_group': {'name': 'x-y',\n",
       "    'url': 'https://pokeapi.co/api/v2/version-group/15/'}},\n",
       "  {'flavor_text': 'Hace que llueva cuando entra en\\ncombate.',\n",
       "   'language': {'name': 'es', 'url': 'https://pokeapi.co/api/v2/language/7/'},\n",
       "   'version_group': {'name': 'x-y',\n",
       "    'url': 'https://pokeapi.co/api/v2/version-group/15/'}},\n",
       "  {'flavor_text': 'Quando scende in campo,\\nil Pokémon attira la pioggia.',\n",
       "   'language': {'name': 'it', 'url': 'https://pokeapi.co/api/v2/language/8/'},\n",
       "   'version_group': {'name': 'x-y',\n",
       "    'url': 'https://pokeapi.co/api/v2/version-group/15/'}},\n",
       "  {'flavor_text': 'The Pokémon makes it rain\\nwhen it enters a battle.',\n",
       "   'language': {'name': 'en', 'url': 'https://pokeapi.co/api/v2/language/9/'},\n",
       "   'version_group': {'name': 'x-y',\n",
       "    'url': 'https://pokeapi.co/api/v2/version-group/15/'}},\n",
       "  {'flavor_text': '戦闘に\\u3000でると\\n雨を\\u3000降らす。',\n",
       "   'language': {'name': 'ja', 'url': 'https://pokeapi.co/api/v2/language/11/'},\n",
       "   'version_group': {'name': 'x-y',\n",
       "    'url': 'https://pokeapi.co/api/v2/version-group/15/'}},\n",
       "  {'flavor_text': 'せんとうに\\u3000でると\\nあめを\\u3000ふらす。',\n",
       "   'language': {'name': 'ja-Hrkt',\n",
       "    'url': 'https://pokeapi.co/api/v2/language/1/'},\n",
       "   'version_group': {'name': 'omega-ruby-alpha-sapphire',\n",
       "    'url': 'https://pokeapi.co/api/v2/version-group/16/'}},\n",
       "  {'flavor_text': '배틀에 나가면\\n비를 내린다.',\n",
       "   'language': {'name': 'ko', 'url': 'https://pokeapi.co/api/v2/language/3/'},\n",
       "   'version_group': {'name': 'omega-ruby-alpha-sapphire',\n",
       "    'url': 'https://pokeapi.co/api/v2/version-group/16/'}},\n",
       "  {'flavor_text': 'Le Pokémon invoque la pluie\\nquand il entre au combat.',\n",
       "   'language': {'name': 'fr', 'url': 'https://pokeapi.co/api/v2/language/5/'},\n",
       "   'version_group': {'name': 'omega-ruby-alpha-sapphire',\n",
       "    'url': 'https://pokeapi.co/api/v2/version-group/16/'}},\n",
       "  {'flavor_text': 'Ruft im Kampf Regen herbei.',\n",
       "   'language': {'name': 'de', 'url': 'https://pokeapi.co/api/v2/language/6/'},\n",
       "   'version_group': {'name': 'omega-ruby-alpha-sapphire',\n",
       "    'url': 'https://pokeapi.co/api/v2/version-group/16/'}},\n",
       "  {'flavor_text': 'Hace que llueva cuando entra en\\ncombate.',\n",
       "   'language': {'name': 'es', 'url': 'https://pokeapi.co/api/v2/language/7/'},\n",
       "   'version_group': {'name': 'omega-ruby-alpha-sapphire',\n",
       "    'url': 'https://pokeapi.co/api/v2/version-group/16/'}},\n",
       "  {'flavor_text': 'Quando scende in campo,\\nil Pokémon attira la pioggia.',\n",
       "   'language': {'name': 'it', 'url': 'https://pokeapi.co/api/v2/language/8/'},\n",
       "   'version_group': {'name': 'omega-ruby-alpha-sapphire',\n",
       "    'url': 'https://pokeapi.co/api/v2/version-group/16/'}},\n",
       "  {'flavor_text': 'The Pokémon makes it rain\\nwhen it enters a battle.',\n",
       "   'language': {'name': 'en', 'url': 'https://pokeapi.co/api/v2/language/9/'},\n",
       "   'version_group': {'name': 'omega-ruby-alpha-sapphire',\n",
       "    'url': 'https://pokeapi.co/api/v2/version-group/16/'}},\n",
       "  {'flavor_text': '戦闘に\\u3000でると\\n雨を\\u3000降らす。',\n",
       "   'language': {'name': 'ja', 'url': 'https://pokeapi.co/api/v2/language/11/'},\n",
       "   'version_group': {'name': 'omega-ruby-alpha-sapphire',\n",
       "    'url': 'https://pokeapi.co/api/v2/version-group/16/'}},\n",
       "  {'flavor_text': 'とうじょう\\u3000したときに\\nてんきを\\u3000あめに\\u3000する。',\n",
       "   'language': {'name': 'ja-Hrkt',\n",
       "    'url': 'https://pokeapi.co/api/v2/language/1/'},\n",
       "   'version_group': {'name': 'sun-moon',\n",
       "    'url': 'https://pokeapi.co/api/v2/version-group/17/'}},\n",
       "  {'flavor_text': '등장했을 때\\n날씨를 비로 만든다.',\n",
       "   'language': {'name': 'ko', 'url': 'https://pokeapi.co/api/v2/language/3/'},\n",
       "   'version_group': {'name': 'sun-moon',\n",
       "    'url': 'https://pokeapi.co/api/v2/version-group/17/'}},\n",
       "  {'flavor_text': '出場時，\\n會將天氣變為下雨。',\n",
       "   'language': {'name': 'zh-Hant',\n",
       "    'url': 'https://pokeapi.co/api/v2/language/4/'},\n",
       "   'version_group': {'name': 'sun-moon',\n",
       "    'url': 'https://pokeapi.co/api/v2/version-group/17/'}},\n",
       "  {'flavor_text': 'Le Pokémon invoque la pluie quand il entre\\nau combat.',\n",
       "   'language': {'name': 'fr', 'url': 'https://pokeapi.co/api/v2/language/5/'},\n",
       "   'version_group': {'name': 'sun-moon',\n",
       "    'url': 'https://pokeapi.co/api/v2/version-group/17/'}},\n",
       "  {'flavor_text': 'Ruft bei Kampfantritt Regen herbei.',\n",
       "   'language': {'name': 'de', 'url': 'https://pokeapi.co/api/v2/language/6/'},\n",
       "   'version_group': {'name': 'sun-moon',\n",
       "    'url': 'https://pokeapi.co/api/v2/version-group/17/'}},\n",
       "  {'flavor_text': 'Hace que llueva cuando entra en combate.',\n",
       "   'language': {'name': 'es', 'url': 'https://pokeapi.co/api/v2/language/7/'},\n",
       "   'version_group': {'name': 'sun-moon',\n",
       "    'url': 'https://pokeapi.co/api/v2/version-group/17/'}},\n",
       "  {'flavor_text': 'Quando il Pokémon entra in campo, attira la pioggia.',\n",
       "   'language': {'name': 'it', 'url': 'https://pokeapi.co/api/v2/language/8/'},\n",
       "   'version_group': {'name': 'sun-moon',\n",
       "    'url': 'https://pokeapi.co/api/v2/version-group/17/'}},\n",
       "  {'flavor_text': 'The Pokémon makes it rain when it enters a battle.',\n",
       "   'language': {'name': 'en', 'url': 'https://pokeapi.co/api/v2/language/9/'},\n",
       "   'version_group': {'name': 'sun-moon',\n",
       "    'url': 'https://pokeapi.co/api/v2/version-group/17/'}},\n",
       "  {'flavor_text': '登場\\u3000したときに\\n天気を\\u3000雨に\\u3000する。',\n",
       "   'language': {'name': 'ja', 'url': 'https://pokeapi.co/api/v2/language/11/'},\n",
       "   'version_group': {'name': 'sun-moon',\n",
       "    'url': 'https://pokeapi.co/api/v2/version-group/17/'}},\n",
       "  {'flavor_text': '出场时，\\n会将天气变为下雨。',\n",
       "   'language': {'name': 'zh-Hans',\n",
       "    'url': 'https://pokeapi.co/api/v2/language/12/'},\n",
       "   'version_group': {'name': 'sun-moon',\n",
       "    'url': 'https://pokeapi.co/api/v2/version-group/17/'}},\n",
       "  {'flavor_text': 'とうじょう\\u3000したときに\\nてんきを\\u3000あめに\\u3000する。',\n",
       "   'language': {'name': 'ja-Hrkt',\n",
       "    'url': 'https://pokeapi.co/api/v2/language/1/'},\n",
       "   'version_group': {'name': 'ultra-sun-ultra-moon',\n",
       "    'url': 'https://pokeapi.co/api/v2/version-group/18/'}},\n",
       "  {'flavor_text': '등장했을 때\\n날씨를 비로 만든다.',\n",
       "   'language': {'name': 'ko', 'url': 'https://pokeapi.co/api/v2/language/3/'},\n",
       "   'version_group': {'name': 'ultra-sun-ultra-moon',\n",
       "    'url': 'https://pokeapi.co/api/v2/version-group/18/'}},\n",
       "  {'flavor_text': '出場時，\\n會將天氣變為下雨。',\n",
       "   'language': {'name': 'zh-Hant',\n",
       "    'url': 'https://pokeapi.co/api/v2/language/4/'},\n",
       "   'version_group': {'name': 'ultra-sun-ultra-moon',\n",
       "    'url': 'https://pokeapi.co/api/v2/version-group/18/'}},\n",
       "  {'flavor_text': 'Le Pokémon invoque la pluie quand il entre\\nau combat.',\n",
       "   'language': {'name': 'fr', 'url': 'https://pokeapi.co/api/v2/language/5/'},\n",
       "   'version_group': {'name': 'ultra-sun-ultra-moon',\n",
       "    'url': 'https://pokeapi.co/api/v2/version-group/18/'}},\n",
       "  {'flavor_text': 'Ruft bei Kampfantritt Regen herbei.',\n",
       "   'language': {'name': 'de', 'url': 'https://pokeapi.co/api/v2/language/6/'},\n",
       "   'version_group': {'name': 'ultra-sun-ultra-moon',\n",
       "    'url': 'https://pokeapi.co/api/v2/version-group/18/'}},\n",
       "  {'flavor_text': 'Hace que llueva cuando entra en combate.',\n",
       "   'language': {'name': 'es', 'url': 'https://pokeapi.co/api/v2/language/7/'},\n",
       "   'version_group': {'name': 'ultra-sun-ultra-moon',\n",
       "    'url': 'https://pokeapi.co/api/v2/version-group/18/'}},\n",
       "  {'flavor_text': 'Quando il Pokémon entra in campo, attira la pioggia.',\n",
       "   'language': {'name': 'it', 'url': 'https://pokeapi.co/api/v2/language/8/'},\n",
       "   'version_group': {'name': 'ultra-sun-ultra-moon',\n",
       "    'url': 'https://pokeapi.co/api/v2/version-group/18/'}},\n",
       "  {'flavor_text': 'The Pokémon makes it rain when it enters a battle.',\n",
       "   'language': {'name': 'en', 'url': 'https://pokeapi.co/api/v2/language/9/'},\n",
       "   'version_group': {'name': 'ultra-sun-ultra-moon',\n",
       "    'url': 'https://pokeapi.co/api/v2/version-group/18/'}},\n",
       "  {'flavor_text': '登場\\u3000したときに\\n天気を\\u3000雨に\\u3000する。',\n",
       "   'language': {'name': 'ja', 'url': 'https://pokeapi.co/api/v2/language/11/'},\n",
       "   'version_group': {'name': 'ultra-sun-ultra-moon',\n",
       "    'url': 'https://pokeapi.co/api/v2/version-group/18/'}},\n",
       "  {'flavor_text': '出场时，\\n会将天气变为下雨。',\n",
       "   'language': {'name': 'zh-Hans',\n",
       "    'url': 'https://pokeapi.co/api/v2/language/12/'},\n",
       "   'version_group': {'name': 'ultra-sun-ultra-moon',\n",
       "    'url': 'https://pokeapi.co/api/v2/version-group/18/'}},\n",
       "  {'flavor_text': 'とうじょう\\u3000したときに\\nてんきを\\u3000あめに\\u3000する。',\n",
       "   'language': {'name': 'ja-Hrkt',\n",
       "    'url': 'https://pokeapi.co/api/v2/language/1/'},\n",
       "   'version_group': {'name': 'lets-go-pikachu-lets-go-eevee',\n",
       "    'url': 'https://pokeapi.co/api/v2/version-group/19/'}},\n",
       "  {'flavor_text': '등장했을 때\\n날씨를 비로 만든다.',\n",
       "   'language': {'name': 'ko', 'url': 'https://pokeapi.co/api/v2/language/3/'},\n",
       "   'version_group': {'name': 'lets-go-pikachu-lets-go-eevee',\n",
       "    'url': 'https://pokeapi.co/api/v2/version-group/19/'}},\n",
       "  {'flavor_text': '出場時，\\n會將天氣變為下雨。',\n",
       "   'language': {'name': 'zh-Hant',\n",
       "    'url': 'https://pokeapi.co/api/v2/language/4/'},\n",
       "   'version_group': {'name': 'lets-go-pikachu-lets-go-eevee',\n",
       "    'url': 'https://pokeapi.co/api/v2/version-group/19/'}},\n",
       "  {'flavor_text': 'Le Pokémon invoque la pluie quand il entre\\nau combat.',\n",
       "   'language': {'name': 'fr', 'url': 'https://pokeapi.co/api/v2/language/5/'},\n",
       "   'version_group': {'name': 'lets-go-pikachu-lets-go-eevee',\n",
       "    'url': 'https://pokeapi.co/api/v2/version-group/19/'}},\n",
       "  {'flavor_text': 'Ruft bei Kampfantritt Regen herbei.',\n",
       "   'language': {'name': 'de', 'url': 'https://pokeapi.co/api/v2/language/6/'},\n",
       "   'version_group': {'name': 'lets-go-pikachu-lets-go-eevee',\n",
       "    'url': 'https://pokeapi.co/api/v2/version-group/19/'}},\n",
       "  {'flavor_text': 'Hace que llueva cuando entra en combate.',\n",
       "   'language': {'name': 'es', 'url': 'https://pokeapi.co/api/v2/language/7/'},\n",
       "   'version_group': {'name': 'lets-go-pikachu-lets-go-eevee',\n",
       "    'url': 'https://pokeapi.co/api/v2/version-group/19/'}},\n",
       "  {'flavor_text': 'Quando il Pokémon entra in campo, attira la pioggia.',\n",
       "   'language': {'name': 'it', 'url': 'https://pokeapi.co/api/v2/language/8/'},\n",
       "   'version_group': {'name': 'lets-go-pikachu-lets-go-eevee',\n",
       "    'url': 'https://pokeapi.co/api/v2/version-group/19/'}},\n",
       "  {'flavor_text': 'The Pokémon makes it rain when it enters a battle.',\n",
       "   'language': {'name': 'en', 'url': 'https://pokeapi.co/api/v2/language/9/'},\n",
       "   'version_group': {'name': 'lets-go-pikachu-lets-go-eevee',\n",
       "    'url': 'https://pokeapi.co/api/v2/version-group/19/'}},\n",
       "  {'flavor_text': '登場\\u3000したときに\\n天気を\\u3000雨に\\u3000する。',\n",
       "   'language': {'name': 'ja', 'url': 'https://pokeapi.co/api/v2/language/11/'},\n",
       "   'version_group': {'name': 'lets-go-pikachu-lets-go-eevee',\n",
       "    'url': 'https://pokeapi.co/api/v2/version-group/19/'}},\n",
       "  {'flavor_text': '出场时，\\n会将天气变为下雨。',\n",
       "   'language': {'name': 'zh-Hans',\n",
       "    'url': 'https://pokeapi.co/api/v2/language/12/'},\n",
       "   'version_group': {'name': 'lets-go-pikachu-lets-go-eevee',\n",
       "    'url': 'https://pokeapi.co/api/v2/version-group/19/'}},\n",
       "  {'flavor_text': 'とうじょう\\u3000したときに\\nてんきを\\u3000あめに\\u3000する。',\n",
       "   'language': {'name': 'ja-Hrkt',\n",
       "    'url': 'https://pokeapi.co/api/v2/language/1/'},\n",
       "   'version_group': {'name': 'sword-shield',\n",
       "    'url': 'https://pokeapi.co/api/v2/version-group/20/'}},\n",
       "  {'flavor_text': '등장했을 때\\n날씨를 비로 만든다.',\n",
       "   'language': {'name': 'ko', 'url': 'https://pokeapi.co/api/v2/language/3/'},\n",
       "   'version_group': {'name': 'sword-shield',\n",
       "    'url': 'https://pokeapi.co/api/v2/version-group/20/'}},\n",
       "  {'flavor_text': '出場時，\\n會將天氣變為下雨。',\n",
       "   'language': {'name': 'zh-Hant',\n",
       "    'url': 'https://pokeapi.co/api/v2/language/4/'},\n",
       "   'version_group': {'name': 'sword-shield',\n",
       "    'url': 'https://pokeapi.co/api/v2/version-group/20/'}},\n",
       "  {'flavor_text': 'Le Pokémon invoque la pluie quand il entre au combat.',\n",
       "   'language': {'name': 'fr', 'url': 'https://pokeapi.co/api/v2/language/5/'},\n",
       "   'version_group': {'name': 'sword-shield',\n",
       "    'url': 'https://pokeapi.co/api/v2/version-group/20/'}},\n",
       "  {'flavor_text': 'Ruft bei Kampfantritt Regen herbei.',\n",
       "   'language': {'name': 'de', 'url': 'https://pokeapi.co/api/v2/language/6/'},\n",
       "   'version_group': {'name': 'sword-shield',\n",
       "    'url': 'https://pokeapi.co/api/v2/version-group/20/'}},\n",
       "  {'flavor_text': 'Hace que llueva al entrar en combate.',\n",
       "   'language': {'name': 'es', 'url': 'https://pokeapi.co/api/v2/language/7/'},\n",
       "   'version_group': {'name': 'sword-shield',\n",
       "    'url': 'https://pokeapi.co/api/v2/version-group/20/'}},\n",
       "  {'flavor_text': 'Quando il Pokémon entra in campo, attira la pioggia.',\n",
       "   'language': {'name': 'it', 'url': 'https://pokeapi.co/api/v2/language/8/'},\n",
       "   'version_group': {'name': 'sword-shield',\n",
       "    'url': 'https://pokeapi.co/api/v2/version-group/20/'}},\n",
       "  {'flavor_text': 'The Pokémon makes it rain when it enters a battle.',\n",
       "   'language': {'name': 'en', 'url': 'https://pokeapi.co/api/v2/language/9/'},\n",
       "   'version_group': {'name': 'sword-shield',\n",
       "    'url': 'https://pokeapi.co/api/v2/version-group/20/'}},\n",
       "  {'flavor_text': '登場\\u3000したときに\\n天気を\\u3000雨に\\u3000する。',\n",
       "   'language': {'name': 'ja', 'url': 'https://pokeapi.co/api/v2/language/11/'},\n",
       "   'version_group': {'name': 'sword-shield',\n",
       "    'url': 'https://pokeapi.co/api/v2/version-group/20/'}},\n",
       "  {'flavor_text': '出场时，\\n会将天气变为下雨。',\n",
       "   'language': {'name': 'zh-Hans',\n",
       "    'url': 'https://pokeapi.co/api/v2/language/12/'},\n",
       "   'version_group': {'name': 'sword-shield',\n",
       "    'url': 'https://pokeapi.co/api/v2/version-group/20/'}}],\n",
       " 'generation': {'name': 'generation-iii',\n",
       "  'url': 'https://pokeapi.co/api/v2/generation/3/'},\n",
       " 'id': 2,\n",
       " 'is_main_series': True,\n",
       " 'name': 'drizzle',\n",
       " 'names': [{'language': {'name': 'ja-Hrkt',\n",
       "    'url': 'https://pokeapi.co/api/v2/language/1/'},\n",
       "   'name': 'あめふらし'},\n",
       "  {'language': {'name': 'ko', 'url': 'https://pokeapi.co/api/v2/language/3/'},\n",
       "   'name': '잔비'},\n",
       "  {'language': {'name': 'zh-Hant',\n",
       "    'url': 'https://pokeapi.co/api/v2/language/4/'},\n",
       "   'name': '降雨'},\n",
       "  {'language': {'name': 'fr', 'url': 'https://pokeapi.co/api/v2/language/5/'},\n",
       "   'name': 'Crachin'},\n",
       "  {'language': {'name': 'de', 'url': 'https://pokeapi.co/api/v2/language/6/'},\n",
       "   'name': 'Niesel'},\n",
       "  {'language': {'name': 'es', 'url': 'https://pokeapi.co/api/v2/language/7/'},\n",
       "   'name': 'Llovizna'},\n",
       "  {'language': {'name': 'it', 'url': 'https://pokeapi.co/api/v2/language/8/'},\n",
       "   'name': 'Piovischio'},\n",
       "  {'language': {'name': 'en', 'url': 'https://pokeapi.co/api/v2/language/9/'},\n",
       "   'name': 'Drizzle'},\n",
       "  {'language': {'name': 'ja', 'url': 'https://pokeapi.co/api/v2/language/11/'},\n",
       "   'name': 'あめふらし'},\n",
       "  {'language': {'name': 'zh-Hans',\n",
       "    'url': 'https://pokeapi.co/api/v2/language/12/'},\n",
       "   'name': '降雨'}],\n",
       " 'pokemon': [{'is_hidden': True,\n",
       "   'pokemon': {'name': 'politoed',\n",
       "    'url': 'https://pokeapi.co/api/v2/pokemon/186/'},\n",
       "   'slot': 3},\n",
       "  {'is_hidden': False,\n",
       "   'pokemon': {'name': 'pelipper',\n",
       "    'url': 'https://pokeapi.co/api/v2/pokemon/279/'},\n",
       "   'slot': 2},\n",
       "  {'is_hidden': False,\n",
       "   'pokemon': {'name': 'kyogre',\n",
       "    'url': 'https://pokeapi.co/api/v2/pokemon/382/'},\n",
       "   'slot': 1}]}"
      ]
     },
     "execution_count": 8,
     "metadata": {},
     "output_type": "execute_result"
    }
   ],
   "source": [
    "import requests\n",
    "poke_habilidad_2 = requests.get(\"https://pokeapi.co/api/v2/ability/2\")#“get” es pedir un recuso() #ingreso URL de dato\n",
    "poke_habilidad_2.json()#[\"abilities\"]\n",
    "#poke_habilidad_2.json()[\"abilities\"][0][\"ability\"]\n",
    "\n",
    "# https://pokeapi.co/api/v2/ability\n",
    "# https://pokeapi.co/api/v2/ability/2 \n",
    "# https://pokeapi.co/api/v2/ability?ability=2"
   ]
  },
  {
   "cell_type": "markdown",
   "metadata": {},
   "source": [
    "f) Guardar los datos correspondientes a Pikachu y Sylveon en un archivo de nombre \"ficha_tecnica_pokemon.txt\"."
   ]
  },
  {
   "cell_type": "code",
   "execution_count": 26,
   "metadata": {},
   "outputs": [],
   "source": [
    "import requests\n",
    "with open(\"ficha_tecnica_pokemon.txt\", \"a\") as archivo:\n",
    "    archivo.write(str(requests.get(\"https://pokeapi.co/api/v2/pokemon/pikachu\").json()))"
   ]
  },
  {
   "cell_type": "markdown",
   "metadata": {},
   "source": [
    "c) Averigüá cuántos Pokemones almacena la API."
   ]
  },
  {
   "cell_type": "code",
   "execution_count": null,
   "metadata": {},
   "outputs": [
    {
     "data": {
      "text/plain": [
       "{'count': 1154,\n",
       " 'next': 'https://pokeapi.co/api/v2/pokemon?offset=20&limit=20',\n",
       " 'previous': None,\n",
       " 'results': [{'name': 'bulbasaur',\n",
       "   'url': 'https://pokeapi.co/api/v2/pokemon/1/'},\n",
       "  {'name': 'ivysaur', 'url': 'https://pokeapi.co/api/v2/pokemon/2/'},\n",
       "  {'name': 'venusaur', 'url': 'https://pokeapi.co/api/v2/pokemon/3/'},\n",
       "  {'name': 'charmander', 'url': 'https://pokeapi.co/api/v2/pokemon/4/'},\n",
       "  {'name': 'charmeleon', 'url': 'https://pokeapi.co/api/v2/pokemon/5/'},\n",
       "  {'name': 'charizard', 'url': 'https://pokeapi.co/api/v2/pokemon/6/'},\n",
       "  {'name': 'squirtle', 'url': 'https://pokeapi.co/api/v2/pokemon/7/'},\n",
       "  {'name': 'wartortle', 'url': 'https://pokeapi.co/api/v2/pokemon/8/'},\n",
       "  {'name': 'blastoise', 'url': 'https://pokeapi.co/api/v2/pokemon/9/'},\n",
       "  {'name': 'caterpie', 'url': 'https://pokeapi.co/api/v2/pokemon/10/'},\n",
       "  {'name': 'metapod', 'url': 'https://pokeapi.co/api/v2/pokemon/11/'},\n",
       "  {'name': 'butterfree', 'url': 'https://pokeapi.co/api/v2/pokemon/12/'},\n",
       "  {'name': 'weedle', 'url': 'https://pokeapi.co/api/v2/pokemon/13/'},\n",
       "  {'name': 'kakuna', 'url': 'https://pokeapi.co/api/v2/pokemon/14/'},\n",
       "  {'name': 'beedrill', 'url': 'https://pokeapi.co/api/v2/pokemon/15/'},\n",
       "  {'name': 'pidgey', 'url': 'https://pokeapi.co/api/v2/pokemon/16/'},\n",
       "  {'name': 'pidgeotto', 'url': 'https://pokeapi.co/api/v2/pokemon/17/'},\n",
       "  {'name': 'pidgeot', 'url': 'https://pokeapi.co/api/v2/pokemon/18/'},\n",
       "  {'name': 'rattata', 'url': 'https://pokeapi.co/api/v2/pokemon/19/'},\n",
       "  {'name': 'raticate', 'url': 'https://pokeapi.co/api/v2/pokemon/20/'}]}"
      ]
     },
     "execution_count": 10,
     "metadata": {},
     "output_type": "execute_result"
    }
   ],
   "source": [
    "import requests \n",
    "pokemons=requests.get(\"https://pokeapi.co/api/v2/pokemon\")\n",
    "pokemons.json()"
   ]
  },
  {
   "cell_type": "code",
   "execution_count": null,
   "metadata": {},
   "outputs": [
    {
     "name": "stdout",
     "output_type": "stream",
     "text": [
      "la app tienen:  20 elementos\n"
     ]
    }
   ],
   "source": [
    "#“get” es pedir un recuso() #ingreso URL de dato\n",
    "print(\"la app tienen: \",len(pokemons.json()[\"results\"]), \"elementos\") #del pedido solo mira la clave data y me dice cuantos elementos tiene(game_indices es la clave de una lista de diccinarios, va a contar con el \"len\" cuantos diccionarios tiene adentro la lista con la clave \"game_indices\")\n",
    " #lo que le agregue entre \"\" es solamente para que me lo devuelva mas lindo\n",
    "#\"json()\" es el formato en el cual los servidores devuelven la informacion al cliente ya sea diccio o lista de diccio"
   ]
  },
  {
   "cell_type": "markdown",
   "metadata": {},
   "source": [
    "g) Describí la arquitectura cliente-servidor y los roles de cada parte"
   ]
  },
  {
   "cell_type": "markdown",
   "metadata": {},
   "source": [
    "ESTA RESUELTO EN UN ARCHIVO TXT EN ESTA MISMA CARPETA DEL PUNTO 1"
   ]
  }
 ],
 "metadata": {
  "kernelspec": {
   "display_name": "Python 3.10.6 64-bit",
   "language": "python",
   "name": "python3"
  },
  "language_info": {
   "codemirror_mode": {
    "name": "ipython",
    "version": 3
   },
   "file_extension": ".py",
   "mimetype": "text/x-python",
   "name": "python",
   "nbconvert_exporter": "python",
   "pygments_lexer": "ipython3",
   "version": "3.10.6"
  },
  "orig_nbformat": 4,
  "vscode": {
   "interpreter": {
    "hash": "aee8b7b246df8f9039afb4144a1f6fd8d2ca17a180786b69acc140d282b71a49"
   }
  }
 },
 "nbformat": 4,
 "nbformat_minor": 2
}
